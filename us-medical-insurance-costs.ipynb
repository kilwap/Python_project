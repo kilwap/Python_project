# U.S. Medical Insurance Costs

import csv

class Customer:
    def __init__(self, age, sex, bmi, children, smoker, region, charges):
        self.age = age
        self.sex = sex
        self.bmi = bmi
        self.children = children
        self.smoker = smoker
        self.region = region
        self.charges = charges
    
  

with open('insurance.csv', newline = '') as insurance_csv_file:
  insurance_csv_dict = csv.DictReader(insurance_csv_file)
  customers = []
  for insurance_row in insurance_csv_dict:
    customers.append(Customer(insurance_row['age'], insurance_row['sex'], insurance_row['bmi'], insurance_row['children'], insurance_row['smoker'], insurance_row['region'], insurance_row['charges']))


Let's find out the average age of the patients in the dataset.

def avr_age(customers):
    sum_age = 0
    i = 0
    for customer in customers:
        sum_age += int(customer.age)
        i += 1
    return (int(sum_age/i))

print(f'The average age of patients in our dataset is {avr_age(customers)}')

Now let's analyze where a majority of the individuals are from.

def most_popular_region(customers):
    regions = []
    most_popular_region = ""
    # first we need a list of unique regions
    for customer in customers:
        regions.append(customer.region)
    regions = list(dict.fromkeys(regions))
    region_popularity = 0
    #now we can check which region is most popular
    for region in regions:
        i = 0
        for customer in customers:
            if customer.region == region:
                i += 1
            if i > region_popularity:
                region_popularity = i
                most_popular_region = region
    
    return most_popular_region

print(f'most of our customers are from the {most_popular_region(customers)} region')

Let's look at the different costs between smokers vs. non-smokers.

def smoke_cost(customers):
    avr_smoker_cost = 0
    avr_nonsmoker_cost = 0
    n = 0
    s = 0
    for customer in customers:
        if customer.smoker == 'yes':
            avr_smoker_cost += float(customer.charges)
            s += 1
        elif customer.smoker == 'no':
            avr_nonsmoker_cost += float(customer.charges)
            n += 1
    avr_smoker_cost = round(avr_smoker_cost/s, 2)
    avr_nonsmoker_cost = round(avr_nonsmoker_cost/n, 2)
    diffrence_cost = avr_smoker_cost - avr_nonsmoker_cost
    print(f'average smoker cost is {avr_smoker_cost} and average non-smoker cost is {avr_nonsmoker_cost}, non-smokers pay average of {diffrence_cost} less')
    
smoke_cost(customers)

Let's figure out what the average age is for someone who has at least one child in this dataset.

def avr_age_child(customers):
    avr_age = 0
    i = 0
    for customer in customers:
        if int(customer.children) > 0:
            avr_age += int(customer.age)
            i += 1
    return(int(avr_age/i))

print(f'average age for peopel with at least one child is {avr_age_child(customers)}')
    
