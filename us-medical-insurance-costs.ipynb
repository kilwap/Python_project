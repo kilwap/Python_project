{
 "cells": [
  {
   "cell_type": "markdown",
   "metadata": {},
   "source": [
    "# U.S. Medical Insurance Costs"
   ]
  },
  {
   "cell_type": "code",
   "execution_count": 1,
   "metadata": {},
   "outputs": [],
   "source": [
    "import csv"
   ]
  },
  {
   "cell_type": "code",
   "execution_count": 2,
   "metadata": {},
   "outputs": [],
   "source": [
    "class Customer:\n",
    "    def __init__(self, age, sex, bmi, children, smoker, region, charges):\n",
    "        self.age = age\n",
    "        self.sex = sex\n",
    "        self.bmi = bmi\n",
    "        self.children = children\n",
    "        self.smoker = smoker\n",
    "        self.region = region\n",
    "        self.charges = charges\n",
    "    \n",
    "  "
   ]
  },
  {
   "cell_type": "code",
   "execution_count": 3,
   "metadata": {},
   "outputs": [],
   "source": [
    "with open('insurance.csv', newline = '') as insurance_csv_file:\n",
    "  insurance_csv_dict = csv.DictReader(insurance_csv_file)\n",
    "  customers = []\n",
    "  for insurance_row in insurance_csv_dict:\n",
    "    customers.append(Customer(insurance_row['age'], insurance_row['sex'], insurance_row['bmi'], insurance_row['children'], insurance_row['smoker'], insurance_row['region'], insurance_row['charges']))\n"
   ]
  },
  {
   "cell_type": "markdown",
   "metadata": {},
   "source": [
    "Let's find out the average age of the patients in the dataset."
   ]
  },
  {
   "cell_type": "code",
   "execution_count": 20,
   "metadata": {},
   "outputs": [
    {
     "name": "stdout",
     "output_type": "stream",
     "text": [
      "The average age of patients in our dataset is 39\n"
     ]
    }
   ],
   "source": [
    "def avr_age(customers):\n",
    "    sum_age = 0\n",
    "    i = 0\n",
    "    for customer in customers:\n",
    "        sum_age += int(customer.age)\n",
    "        i += 1\n",
    "    return (int(sum_age/i))\n",
    "\n",
    "print(f'The average age of patients in our dataset is {avr_age(customers)}')"
   ]
  },
  {
   "cell_type": "markdown",
   "metadata": {},
   "source": [
    "Now let's analyze where a majority of the individuals are from."
   ]
  },
  {
   "cell_type": "code",
   "execution_count": 5,
   "metadata": {},
   "outputs": [
    {
     "name": "stdout",
     "output_type": "stream",
     "text": [
      "most of our customers are from the southeast region\n"
     ]
    }
   ],
   "source": [
    "def most_popular_region(customers):\n",
    "    regions = []\n",
    "    most_popular_region = \"\"\n",
    "    # first we need a list of unique regions\n",
    "    for customer in customers:\n",
    "        regions.append(customer.region)\n",
    "    regions = list(dict.fromkeys(regions))\n",
    "    region_popularity = 0\n",
    "    #now we can check which region is most popular\n",
    "    for region in regions:\n",
    "        i = 0\n",
    "        for customer in customers:\n",
    "            if customer.region == region:\n",
    "                i += 1\n",
    "            if i > region_popularity:\n",
    "                region_popularity = i\n",
    "                most_popular_region = region\n",
    "    \n",
    "    return most_popular_region\n",
    "\n",
    "print(f'most of our customers are from the {most_popular_region(customers)} region')"
   ]
  },
  {
   "cell_type": "markdown",
   "metadata": {},
   "source": [
    "Let's look at the different costs between smokers vs. non-smokers."
   ]
  },
  {
   "cell_type": "code",
   "execution_count": 11,
   "metadata": {},
   "outputs": [
    {
     "name": "stdout",
     "output_type": "stream",
     "text": [
      "average smoker cost is 32050.23 and average non-smoker cost is 8434.27, non-smokers pay less average 23615.96\n"
     ]
    }
   ],
   "source": [
    "def smoke_cost(customers):\n",
    "    avr_smoker_cost = 0\n",
    "    avr_nonsmoker_cost = 0\n",
    "    n = 0\n",
    "    s = 0\n",
    "    for customer in customers:\n",
    "        if customer.smoker == 'yes':\n",
    "            avr_smoker_cost += float(customer.charges)\n",
    "            s += 1\n",
    "        elif customer.smoker == 'no':\n",
    "            avr_nonsmoker_cost += float(customer.charges)\n",
    "            n += 1\n",
    "    avr_smoker_cost = round(avr_smoker_cost/s, 2)\n",
    "    avr_nonsmoker_cost = round(avr_nonsmoker_cost/n, 2)\n",
    "    diffrence_cost = avr_smoker_cost - avr_nonsmoker_cost\n",
    "    print(f'average smoker cost is {avr_smoker_cost} and average non-smoker cost is {avr_nonsmoker_cost}, non-smokers pay average of {diffrence_cost} less')\n",
    "    \n",
    "smoke_cost(customers)"
   ]
  },
  {
   "cell_type": "markdown",
   "metadata": {},
   "source": [
    "Let's figure out what the average age is for someone who has at least one child in this dataset."
   ]
  },
  {
   "cell_type": "code",
   "execution_count": 24,
   "metadata": {},
   "outputs": [
    {
     "name": "stdout",
     "output_type": "stream",
     "text": [
      "average age for peopel with at least one child is 39\n"
     ]
    }
   ],
   "source": [
    "def avr_age_child(customers):\n",
    "    avr_age = 0\n",
    "    i = 0\n",
    "    for customer in customers:\n",
    "        if int(customer.children) > 0:\n",
    "            avr_age += int(customer.age)\n",
    "            i += 1\n",
    "    return(int(avr_age/i))\n",
    "\n",
    "print(f'average age for peopel with at least one child is {avr_age_child(customers)}')\n",
    "    "
   ]
  }
 ],
 "metadata": {
  "kernelspec": {
   "display_name": "Python 3",
   "language": "python",
   "name": "python3"
  },
  "language_info": {
   "codemirror_mode": {
    "name": "ipython",
    "version": 3
   },
   "file_extension": ".py",
   "mimetype": "text/x-python",
   "name": "python",
   "nbconvert_exporter": "python",
   "pygments_lexer": "ipython3",
   "version": "3.9.0"
  }
 },
 "nbformat": 4,
 "nbformat_minor": 4
}
